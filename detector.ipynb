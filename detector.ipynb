{
 "cells": [
  {
   "cell_type": "code",
   "execution_count": 8,
   "id": "6877b9a3-b3b5-41b0-90b4-284b80ce41fb",
   "metadata": {},
   "outputs": [
    {
     "data": {
      "text/plain": [
       "['scaler.pkl']"
      ]
     },
     "execution_count": 8,
     "metadata": {},
     "output_type": "execute_result"
    }
   ],
   "source": [
    "import pandas as pd\n",
    "import numpy as np\n",
    "from sklearn.preprocessing import MinMaxScaler\n",
    "from sklearn.model_selection import train_test_split\n",
    "from sklearn.ensemble import IsolationForest\n",
    "import hashlib\n",
    "import joblib  # for saving models\n",
    "\n",
    "# Load data\n",
    "data = pd.read_csv('network_traffic.csv')\n",
    "\n",
    "# Preprocessing\n",
    "data = data.drop_duplicates()\n",
    "data = data.dropna()\n",
    "\n",
    "# Drop unnecessary columns early\n",
    "if 'Info' in data.columns:\n",
    "    data = data.drop('Info', axis=1)\n",
    "if 'No.' in data.columns:\n",
    "    data = data.drop('No.', axis=1)\n",
    "\n",
    "# One-hot encode Protocol\n",
    "data = pd.get_dummies(data, columns=['Protocol'], drop_first=True)\n",
    "\n",
    "# Scale numerical features\n",
    "scaler = MinMaxScaler()\n",
    "numeric_columns = ['Time', 'Length']\n",
    "data[numeric_columns] = scaler.fit_transform(data[numeric_columns])\n",
    "\n",
    "# Hash IP addresses\n",
    "def hash_ip(x, mod_value=2**16):\n",
    "    return int(hashlib.sha256(str(x).encode()).hexdigest(), 16) % mod_value\n",
    "\n",
    "data['Source'] = data['Source'].apply(hash_ip)\n",
    "data['Destination'] = data['Destination'].apply(hash_ip)\n",
    "\n",
    "# Split data\n",
    "X_train, X_test = train_test_split(data, test_size=0.2, random_state=42)\n",
    "\n",
    "# Train model\n",
    "model = IsolationForest(n_estimators=100, contamination=0.05, random_state=42)\n",
    "model.fit(X_train)\n",
    "\n",
    "# Save model and scaler for later use\n",
    "joblib.dump(model, 'isolation_forest_model.pkl')\n",
    "joblib.dump(scaler, 'scaler.pkl')"
   ]
  },
  {
   "cell_type": "code",
   "execution_count": 16,
   "id": "85ade929-fef8-4db6-91f4-1f87347400c4",
   "metadata": {},
   "outputs": [
    {
     "data": {
      "image/png": "[encoded data removed]",
      "text/plain": [
       "<Figure size 1000x600 with 1 Axes>"
      ]
     },
     "metadata": {},
     "output_type": "display_data"
    }
   ],
   "source": [
    "import pandas as pd\n",
    "import numpy as np\n",
    "import joblib\n",
    "import matplotlib.pyplot as plt\n",
    "\n",
    "# Load saved model and scaler\n",
    "model = joblib.load('isolation_forest_model.pkl')\n",
    "scaler = joblib.load('scaler.pkl')\n",
    "\n",
    "# Load test data\n",
    "test_data = pd.read_csv('traffic3.csv')\n",
    "\n",
    "# Preprocessing\n",
    "test_data = test_data.drop_duplicates()\n",
    "test_data = test_data.dropna()\n",
    "\n",
    "# Drop unnecessary columns\n",
    "if 'Info' in test_data.columns:\n",
    "    test_data = test_data.drop('Info', axis=1)\n",
    "if 'No.' in test_data.columns:\n",
    "    test_data = test_data.drop('No.', axis=1)\n",
    "\n",
    "# One-hot encode Protocol\n",
    "test_data = pd.get_dummies(test_data, columns=['Protocol'], drop_first=True)\n",
    "\n",
    "# Scale numerical features using saved scaler\n",
    "numeric_columns = ['Time', 'Length']\n",
    "test_data[numeric_columns] = scaler.transform(test_data[numeric_columns])\n",
    "\n",
    "# Hash IP addresses\n",
    "def hash_ip(x, mod_value=2**16):\n",
    "    return int(hashlib.sha256(str(x).encode()).hexdigest(), 16) % mod_value\n",
    "\n",
    "test_data['Source'] = test_data['Source'].apply(hash_ip)\n",
    "test_data['Destination'] = test_data['Destination'].apply(hash_ip)\n",
    "\n",
    "# Ensure columns match training data\n",
    "test_data = test_data.reindex(columns=X_train.columns, fill_value=0)\n",
    "\n",
    "# Predict\n",
    "test_predictions = model.predict(test_data)\n",
    "\n",
    "# Visualize results\n",
    "results = dict(zip(*np.unique(test_predictions, return_counts=True)))\n",
    "plt.figure(figsize=(10, 6))\n",
    "plt.bar(['Anomalies (-1)', 'Normal Data (1)'], \n",
    "        [results.get(-1, 0), results.get(1, 0)], \n",
    "        color=['red', 'green'])\n",
    "plt.title('Test Data Distribution of Predictions')\n",
    "plt.xlabel('Class')\n",
    "plt.ylabel('Count')\n",
    "plt.show()"
   ]
  },
  {
   "cell_type": "code",
   "execution_count": 17,
   "id": "db131dd9-3028-4054-b3de-d4a652799fc8",
   "metadata": {},
   "outputs": [
    {
     "name": "stdout",
     "output_type": "stream",
     "text": [
      "Number of Anomalies: 1164\n",
      "Number of Normal instances: 21906\n",
      "\n",
      "Results using numpy:\n",
      "Anomalies (-1): 1164\n",
      "Normal (1): 21906\n"
     ]
    }
   ],
   "source": [
    "# Get predictions\n",
    "y_pred = model.predict(X_test)\n",
    "\n",
    "# Count anomalies and normal instances\n",
    "anomalies = (y_pred == -1).sum()\n",
    "normal = (y_pred == 1).sum()\n",
    "\n",
    "print(f\"Number of Anomalies: {anomalies}\")\n",
    "print(f\"Number of Normal instances: {normal}\")\n",
    "\n",
    "# Alternative method using numpy\n",
    "unique, counts = np.unique(y_pred, return_counts=True)\n",
    "results = dict(zip(unique, counts))\n",
    "print(f\"\\nResults using numpy:\\nAnomalies (-1): {results.get(-1, 0)}\\nNormal (1): {results.get(1, 0)}\")"
   ]
  },
  {
   "cell_type": "code",
   "execution_count": 4,
   "id": "664cccb2-5f62-4783-9e4f-33c9a1073dc6",
   "metadata": {},
   "outputs": [
    {
     "data": {
      "text/plain": [
       "['training_columns.pkl']"
      ]
     },
     "execution_count": 4,
     "metadata": {},
     "output_type": "execute_result"
    }
   ],
   "source": [
    "# Save column names for later use\n",
    "joblib.dump(X_train.columns, 'training_columns.pkl')\n"
   ]
  },
  {
   "cell_type": "code",
   "execution_count": 6,
   "id": "4abc8bd8-3a78-4d41-bc92-9a57a0ea1995",
   "metadata": {},
   "outputs": [
    {
     "name": "stdout",
     "output_type": "stream",
     "text": [
      "Index(['Time', 'Source', 'Destination', 'Length', 'Protocol_BROWSER',\n",
      "       'Protocol_CLDAP', 'Protocol_CVSPSERVER', 'Protocol_Chargen',\n",
      "       'Protocol_DCERPC', 'Protocol_DNS', 'Protocol_DRDA', 'Protocol_EPM',\n",
      "       'Protocol_HTTP', 'Protocol_HTTP/JSON', 'Protocol_HTTP/XML',\n",
      "       'Protocol_ICMP', 'Protocol_ICMPv6', 'Protocol_IMAP', 'Protocol_KRB5',\n",
      "       'Protocol_LDAP', 'Protocol_LSARPC', 'Protocol_MDNS', 'Protocol_MySQL',\n",
      "       'Protocol_NBNS', 'Protocol_NBSS', 'Protocol_NFS', 'Protocol_NTP',\n",
      "       'Protocol_POP', 'Protocol_Portmap', 'Protocol_RDP', 'Protocol_RDPUDP',\n",
      "       'Protocol_RPC_NETLOGON', 'Protocol_SMB', 'Protocol_SMB2',\n",
      "       'Protocol_SMTP', 'Protocol_SSH', 'Protocol_SSHv1', 'Protocol_SSHv2',\n",
      "       'Protocol_SSLv2', 'Protocol_TCP', 'Protocol_TLSv1.2',\n",
      "       'Protocol_TLSv1.3', 'Protocol_UDP'],\n",
      "      dtype='object')\n"
     ]
    }
   ],
   "source": [
    "print(data.columns)\n"
   ]
  },
  {
   "cell_type": "code",
   "execution_count": 13,
   "id": "7d3eaf4d-de02-442d-9943-a6b943c54997",
   "metadata": {},
   "outputs": [
    {
     "name": "stdout",
     "output_type": "stream",
     "text": [
      "Training columns: ['Time', 'Source', 'Destination', 'Length', 'Protocol_BROWSER', 'Protocol_CLDAP', 'Protocol_CVSPSERVER', 'Protocol_Chargen', 'Protocol_DCERPC', 'Protocol_DNS', 'Protocol_DRDA', 'Protocol_EPM', 'Protocol_HTTP', 'Protocol_HTTP/JSON', 'Protocol_HTTP/XML', 'Protocol_ICMP', 'Protocol_ICMPv6', 'Protocol_IMAP', 'Protocol_KRB5', 'Protocol_LDAP', 'Protocol_LSARPC', 'Protocol_MDNS', 'Protocol_MySQL', 'Protocol_NBNS', 'Protocol_NBSS', 'Protocol_NFS', 'Protocol_NTP', 'Protocol_POP', 'Protocol_Portmap', 'Protocol_RDP', 'Protocol_RDPUDP', 'Protocol_RPC_NETLOGON', 'Protocol_SMB', 'Protocol_SMB2', 'Protocol_SMTP', 'Protocol_SSH', 'Protocol_SSHv1', 'Protocol_SSHv2', 'Protocol_SSLv2', 'Protocol_TCP', 'Protocol_TLSv1.2', 'Protocol_TLSv1.3', 'Protocol_UDP']\n"
     ]
    }
   ],
   "source": [
    "# Print out the columns in X_train to see what we have\n",
    "print(\"Training columns:\", X_train.columns.tolist())"
   ]
  },
  {
   "cell_type": "code",
   "execution_count": null,
   "id": "918743e8-7af4-4797-85d3-252f92e11808",
   "metadata": {},
   "outputs": [],
   "source": []
  }
 ],
 "metadata": {
  "kernelspec": {
   "display_name": "Python 3 (ipykernel)",
   "language": "python",
   "name": "python3"
  },
  "language_info": {
   "codemirror_mode": {
    "name": "ipython",
    "version": 3
   },
   "file_extension": ".py",
   "mimetype": "text/x-python",
   "name": "python",
   "nbconvert_exporter": "python",
   "pygments_lexer": "ipython3",
   "version": "3.12.2"
  }
 },
 "nbformat": 4,
 "nbformat_minor": 5
}
